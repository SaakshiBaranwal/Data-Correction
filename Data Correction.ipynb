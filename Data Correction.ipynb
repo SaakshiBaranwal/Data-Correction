{
 "cells": [
  {
   "cell_type": "markdown",
   "id": "f73fd8ba-5204-47fe-a341-bdd962deca22",
   "metadata": {},
   "source": [
    "Importing required libraries"
   ]
  },
  {
   "cell_type": "code",
   "execution_count": 36,
   "id": "70286aa7-dd9d-44b1-9a8b-9f3b7da88497",
   "metadata": {},
   "outputs": [],
   "source": [
    "import pandas as pd\n",
    "import numpy as np\n",
    "import matplotlib.pyplot as plt"
   ]
  },
  {
   "cell_type": "markdown",
   "id": "df18dc33-6c2a-46d6-985f-a47288ad31b1",
   "metadata": {},
   "source": [
    "Load the data from Google sheets"
   ]
  },
  {
   "cell_type": "code",
   "execution_count": 37,
   "id": "174b112b-5ee7-404a-86f0-af21ef2bdfe8",
   "metadata": {},
   "outputs": [],
   "source": [
    "sheet_id = \"1HbTO-7yTR-7BIUVv2BiiPcGwViPoxp4Y\"\n",
    "xls_url =\"https://docs.google.com/spreadsheets/d/{}/gviz/tq?tqx=out:csv&sheet={}\".format(sheet_id , \"Sheet1\")\n",
    "df = pd.read_csv(xls_url , header=None , names =['careers'])"
   ]
  },
  {
   "cell_type": "markdown",
   "id": "70bf1614-69d1-4fe1-b2b3-af00498d4b92",
   "metadata": {},
   "source": [
    "To display the first 10 rows of Data Frame"
   ]
  },
  {
   "cell_type": "code",
   "execution_count": 38,
   "id": "d5830280-27f6-4882-b7d2-6ca8cbbcc209",
   "metadata": {},
   "outputs": [
    {
     "data": {
      "text/html": [
       "<div>\n",
       "<style scoped>\n",
       "    .dataframe tbody tr th:only-of-type {\n",
       "        vertical-align: middle;\n",
       "    }\n",
       "\n",
       "    .dataframe tbody tr th {\n",
       "        vertical-align: top;\n",
       "    }\n",
       "\n",
       "    .dataframe thead th {\n",
       "        text-align: right;\n",
       "    }\n",
       "</style>\n",
       "<table border=\"1\" class=\"dataframe\">\n",
       "  <thead>\n",
       "    <tr style=\"text-align: right;\">\n",
       "      <th></th>\n",
       "      <th>careers</th>\n",
       "    </tr>\n",
       "  </thead>\n",
       "  <tbody>\n",
       "    <tr>\n",
       "      <th>0</th>\n",
       "      <td>cokter</td>\n",
       "    </tr>\n",
       "    <tr>\n",
       "      <th>1</th>\n",
       "      <td>dentiists</td>\n",
       "    </tr>\n",
       "    <tr>\n",
       "      <th>2</th>\n",
       "      <td>Enginir</td>\n",
       "    </tr>\n",
       "    <tr>\n",
       "      <th>3</th>\n",
       "      <td>PoLICE</td>\n",
       "    </tr>\n",
       "    <tr>\n",
       "      <th>4</th>\n",
       "      <td>engneiear</td>\n",
       "    </tr>\n",
       "    <tr>\n",
       "      <th>5</th>\n",
       "      <td>DOcTRO</td>\n",
       "    </tr>\n",
       "    <tr>\n",
       "      <th>6</th>\n",
       "      <td>dentists</td>\n",
       "    </tr>\n",
       "    <tr>\n",
       "      <th>7</th>\n",
       "      <td>POLICE</td>\n",
       "    </tr>\n",
       "    <tr>\n",
       "      <th>8</th>\n",
       "      <td>enjeineaar</td>\n",
       "    </tr>\n",
       "    <tr>\n",
       "      <th>9</th>\n",
       "      <td>DENTISTT</td>\n",
       "    </tr>\n",
       "  </tbody>\n",
       "</table>\n",
       "</div>"
      ],
      "text/plain": [
       "      careers\n",
       "0      cokter\n",
       "1   dentiists\n",
       "2     Enginir\n",
       "3      PoLICE\n",
       "4   engneiear\n",
       "5      DOcTRO\n",
       "6    dentists\n",
       "7      POLICE\n",
       "8  enjeineaar\n",
       "9    DENTISTT"
      ]
     },
     "execution_count": 38,
     "metadata": {},
     "output_type": "execute_result"
    }
   ],
   "source": [
    "df.head(10)"
   ]
  },
  {
   "cell_type": "markdown",
   "id": "08762c5a-4a6d-448f-83ce-5e3a5a94db22",
   "metadata": {},
   "source": [
    "Implementing levenshtein function "
   ]
  },
  {
   "cell_type": "code",
   "execution_count": 39,
   "id": "7c59bdf6-de08-4d58-b9d3-e281a269f129",
   "metadata": {},
   "outputs": [],
   "source": [
    "def levenshtein(w1,w2):\n",
    "    l1=len(w1)\n",
    "    l2=len(w2)\n",
    "    dp=np.zeros((l1+1,l2+1))\n",
    "    for i in range (l1+1):\n",
    "        dp[i][0]=i\n",
    "    for i in range (l2+1):\n",
    "        dp[0][i]=i\n",
    "    for row in range (1,l1+1):\n",
    "        for col in range (1,l2+1):\n",
    "            if(w1[row-1]==w2[col-1]):\n",
    "                dp[row][col]=dp[row-1][col-1]\n",
    "            else:\n",
    "                mini=min(dp[row-1][col],dp[row][col-1],dp[row-1][col-1])\n",
    "                dp[row][col]=mini+1\n",
    "    return dp[l1][l2]\n",
    "\n"
   ]
  },
  {
   "cell_type": "markdown",
   "id": "1c2f9dca-c2f9-4159-a0e2-ae4c2a4ff99b",
   "metadata": {},
   "source": [
    "Creating a list of aspirations with correct spellings"
   ]
  },
  {
   "cell_type": "code",
   "execution_count": 40,
   "id": "f5df7ab1-f734-4729-83f8-b38193b8f561",
   "metadata": {},
   "outputs": [],
   "source": [
    "correct_words=[\"doctor\", \"lawyer\", \"teacher\", \"engineer\", \"accountant\", \"nurse\", \"police\", \"architect\", \"denstist\", \"pharmacist\"]"
   ]
  },
  {
   "cell_type": "markdown",
   "id": "bb1702ea-a15f-4dc5-af4d-6a36f24bb293",
   "metadata": {},
   "source": [
    "Code to correct the spelling of each proffesions"
   ]
  },
  {
   "cell_type": "code",
   "execution_count": 41,
   "id": "95919981-fa8f-4f99-9ee7-da2278f869ab",
   "metadata": {},
   "outputs": [],
   "source": [
    "for index, row in df.iterrows():\n",
    "    min_dist=10\n",
    "    for j in correct_words:\n",
    "        dist = levenshtein(str(row[\"careers\"]).lower(), j)  \n",
    "        if dist < min_dist:\n",
    "            min_dist=dist\n",
    "            correct_word=j\n",
    "    df.at[index, \"careers\"] = correct_word"
   ]
  },
  {
   "cell_type": "markdown",
   "id": "881ff622-88b4-406c-9236-cc752f8e7386",
   "metadata": {},
   "source": [
    "Calculating the frequency of each aspiration "
   ]
  },
  {
   "cell_type": "code",
   "execution_count": 42,
   "id": "3813f7cd-7cc0-4216-86a4-bd3e0a16a488",
   "metadata": {},
   "outputs": [],
   "source": [
    "freq_words=[0,0,0,0,0,0,0,0,0,0]\n",
    "for index, row in df.iterrows():\n",
    "        for j in range (len(correct_words)):\n",
    "            if (row[\"careers\"]==correct_words[j]):\n",
    "                freq_words[j]+=1"
   ]
  },
  {
   "cell_type": "markdown",
   "id": "b9e1ff2f-667f-4fb6-a732-b0b1b7b433b7",
   "metadata": {},
   "source": [
    "Printing the frequency of each aspirations"
   ]
  },
  {
   "cell_type": "code",
   "execution_count": 46,
   "id": "0869dcb5-05fa-42b2-9ee1-81ec4efece32",
   "metadata": {},
   "outputs": [
    {
     "name": "stdout",
     "output_type": "stream",
     "text": [
      "['doctor', 'lawyer', 'teacher', 'engineer', 'accountant', 'nurse', 'police', 'architect', 'denstist', 'pharmacist']\n",
      "[225, 82, 195, 328, 32, 85, 162, 63, 192, 42]\n"
     ]
    }
   ],
   "source": [
    "print(correct_words)\n",
    "print(freq_words)"
   ]
  },
  {
   "cell_type": "markdown",
   "id": "70335ff0-374e-4076-8635-cce9b304cfc2",
   "metadata": {},
   "source": [
    "Plotting the graph of Aspirations vs Frequency"
   ]
  },
  {
   "cell_type": "code",
   "execution_count": 45,
   "id": "565d16ee-1208-48f9-af02-64be6c5a9189",
   "metadata": {},
   "outputs": [
    {
     "data": {
      "image/png": "[encoded data removed]",
      "text/plain": [
       "<Figure size 640x480 with 1 Axes>"
      ]
     },
     "metadata": {},
     "output_type": "display_data"
    }
   ],
   "source": [
    "plt.bar(correct_words, freq_words)\n",
    "plt.xlabel('Career Aspirations')\n",
    "plt.ylabel('Frequency')\n",
    "plt.title('Career Aspirations of Students')\n",
    "plt.xticks(rotation=45) \n",
    "plt.show()\n"
   ]
  },
  {
   "cell_type": "code",
   "execution_count": null,
   "id": "7182daf4-458a-4b42-8421-41c0ba3e6ca3",
   "metadata": {},
   "outputs": [],
   "source": []
  }
 ],
 "metadata": {
  "kernelspec": {
   "display_name": "Python 3 (ipykernel)",
   "language": "python",
   "name": "python3"
  },
  "language_info": {
   "codemirror_mode": {
    "name": "ipython",
    "version": 3
   },
   "file_extension": ".py",
   "mimetype": "text/x-python",
   "name": "python",
   "nbconvert_exporter": "python",
   "pygments_lexer": "ipython3",
   "version": "3.11.7"
  }
 },
 "nbformat": 4,
 "nbformat_minor": 5
}
